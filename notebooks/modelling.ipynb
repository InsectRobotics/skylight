{
 "cells": [
  {
   "cell_type": "code",
   "execution_count": 22,
   "metadata": {
    "collapsed": true
   },
   "outputs": [
    {
     "name": "stdout",
     "output_type": "stream",
     "text": [
      "Loading 'seville-cr-32-20170621.npz' ...\n"
     ]
    },
    {
     "name": "stdout",
     "output_type": "stream",
     "text": [
      "Loading 'seville-cr-32-20171221.npz' ...\n"
     ]
    },
    {
     "name": "stdout",
     "output_type": "stream",
     "text": [
      "Train: (17280, 6208, 2) (17280,)\nLoading 'seville-cr-32-20170601.npz' ...\n"
     ]
    },
    {
     "name": "stdout",
     "output_type": "stream",
     "text": [
      "Test: (10440, 12416) (10440,)\n"
     ]
    }
   ],
   "source": [
    "import numpy as np\n",
    "import matplotlib.pyplot as plt\n",
    "import matplotlib.cm as cmx\n",
    "import sys\n",
    "import os\n",
    "sys.path.append(os.path.abspath(\"../\"))\n",
    "\n",
    "from time import time\n",
    "from mpl_toolkits.mplot3d import Axes3D\n",
    "from learn import CompassModel, from_file, angdist\n",
    "\n",
    "from sklearn.decomposition import PCA\n",
    "from sklearn.linear_model import LinearRegression, LogisticRegression\n",
    "from sklearn.linear_model import LogisticRegression\n",
    "from sklearn.neural_network import MLPRegressor\n",
    "\n",
    "from keras.layers import Input, Dense, Conv2D\n",
    "from keras.models import Model\n",
    "\n",
    "names = [\n",
    "    # \"seville-cr-32-20170321\",\n",
    "    \"seville-cr-32-20170621\",\n",
    "    # \"seville-cr-32-20170921\",\n",
    "    \"seville-cr-32-20171221\",\n",
    "    \"seville-cr-32-20170601\"\n",
    "]\n",
    "\n",
    "# Load training data\n",
    "x, y = CompassModel.load_dataset(names[:-1], pol=True, y_shape=(-1, 1))\n",
    "x = x.reshape((x.shape[0], -1))\n",
    "# Clean training data\n",
    "i = np.all(~np.isnan(x), axis=1)\n",
    "x = x.reshape((x.shape[0], -1, 2))\n",
    "x, y = x[i], y[i].squeeze()\n",
    "print \"Train:\", x.shape, y.shape\n",
    "\n",
    "# Load testing data\n",
    "x_test, y_test = CompassModel.load_dataset(names[-1:], pol=True, y_shape=(-1, 1))\n",
    "x_test = x_test.reshape((x_test.shape[0], -1))\n",
    "# Clean testing data\n",
    "i = np.all(~np.isnan(x_test), axis=1)\n",
    "x_test = x_test.reshape((x_test.shape[0], -1, 2))\n",
    "x_test, y_test = x_test[i], y_test[i].squeeze()\n",
    "print \"Test:\", x_test.shape, y_test.shape"
   ]
  },
  {
   "cell_type": "code",
   "execution_count": 25,
   "metadata": {},
   "outputs": [
    {
     "name": "stdout",
     "output_type": "stream",
     "text": [
      "learn.whitening: DEBUG: x.shape = (17280, 6208, 2), n = 17280, d = 12416\n"
     ]
    },
    {
     "name": "stdout",
     "output_type": "stream",
     "text": [
      "learn.whitening: DEBUG: x.min = -1.57, x.max = 1.57, x.mean = 0.89\n"
     ]
    },
    {
     "name": "stdout",
     "output_type": "stream",
     "text": [
      "learn.whitening: DEBUG: Creating the correlation matrix...\n"
     ]
    },
    {
     "name": "stdout",
     "output_type": "stream",
     "text": [
      "learn.whitening: DEBUG: C.shape = (12416, 12416)\n"
     ]
    },
    {
     "name": "stdout",
     "output_type": "stream",
     "text": [
      "learn.whitening: DEBUG: Applying SVD...\n"
     ]
    }
   ],
   "source": [
    "from learn.whitening import transform, pca, zca\n",
    "\n",
    "# x_pca = transform(x, func=pca, save_filepath='pca.npz')\n",
    "x_pca_test = transform(x_test, func=pca, load_filepath='pca.npz')"
   ]
  },
  {
   "cell_type": "code",
   "execution_count": null,
   "metadata": {},
   "outputs": [],
   "source": [
    "model = from_file(\"simple-model.yaml\")\n",
    "model.compile(optimizer=\"rmsprop\", loss=\"mae\", metrics=[\"accuracy\"])\n",
    "model.summary()\n",
    "\n",
    "hist = model.train((x, y), valid_data=(x_test, y_test), epochs=500)"
   ]
  }
 ],
 "metadata": {
  "kernelspec": {
   "display_name": "Python 2",
   "language": "python",
   "name": "python2"
  },
  "language_info": {
   "codemirror_mode": {
    "name": "ipython",
    "version": 2.0
   },
   "file_extension": ".py",
   "mimetype": "text/x-python",
   "name": "python",
   "nbconvert_exporter": "python",
   "pygments_lexer": "ipython2",
   "version": "2.7.6"
  }
 },
 "nbformat": 4,
 "nbformat_minor": 0
}